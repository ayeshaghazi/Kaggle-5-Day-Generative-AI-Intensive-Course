{
  "nbformat": 4,
  "nbformat_minor": 0,
  "metadata": {
    "colab": {
      "provenance": []
    },
    "kernelspec": {
      "name": "python3",
      "display_name": "Python 3"
    },
    "language_info": {
      "name": "python"
    }
  },
  "cells": [
    {
      "cell_type": "code",
      "execution_count": 1,
      "metadata": {
        "id": "OAwVsA4562Ay"
      },
      "outputs": [],
      "source": [
        "from google.colab import userdata\n"
      ]
    },
    {
      "cell_type": "markdown",
      "source": [
        "##### Copyright 2025 Google LLC."
      ],
      "metadata": {
        "id": "S97Wnpow7DHW"
      }
    },
    {
      "cell_type": "markdown",
      "source": [
        "In this notebook, we will learn some techniques for evaluating the output of a language model. As part of the evaluation, we will also use Gemini's structured data capability to produce evaluation results as instances of Python types."
      ],
      "metadata": {
        "id": "8QK_yM8YDt6R"
      }
    },
    {
      "cell_type": "code",
      "source": [
        "from google import genai\n",
        "from google.genai import types\n",
        "from IPython.display import Markdown, display\n"
      ],
      "metadata": {
        "id": "SjgrBIHu6-pE"
      },
      "execution_count": 2,
      "outputs": []
    },
    {
      "cell_type": "code",
      "source": [
        "genai.__version__\n"
      ],
      "metadata": {
        "colab": {
          "base_uri": "https://localhost:8080/",
          "height": 35
        },
        "id": "pXqasA5mD8N4",
        "outputId": "e5f33bd3-69c2-412c-b82e-4b26a195b598"
      },
      "execution_count": 3,
      "outputs": [
        {
          "output_type": "execute_result",
          "data": {
            "text/plain": [
              "'1.8.0'"
            ],
            "application/vnd.google.colaboratory.intrinsic+json": {
              "type": "string"
            }
          },
          "metadata": {},
          "execution_count": 3
        }
      ]
    },
    {
      "cell_type": "code",
      "source": [
        "from google.api_core import retry\n",
        "\n",
        "is_retriable = lambda e: (isinstance(e, genai.errors.APIError) and e.code in {429, 503})\n",
        "\n",
        "# Ensures that generate_content only gets wrapped once with retry logic.\n",
        "# If generate_content fails due to a retriable error, it automatically retries instead of failing immediately.\n",
        "\n",
        "if not hasattr(genai.models.Models.generate_content, '__wrapped__'):\n",
        "  genai.models.Models.generate_content = retry.Retry(\n",
        "      predicate=is_retriable\n",
        "  )(genai.models.Models.generate_content)\n"
      ],
      "metadata": {
        "id": "moA4MQzjEAdP"
      },
      "execution_count": 4,
      "outputs": []
    },
    {
      "cell_type": "markdown",
      "source": [
        "## Evaluation\n",
        "\n",
        "When using LLMs in real-world cases, it's important to understand how well they are performing. The open-ended generation capabilities of LLMs can make many cases difficult to measure. In this notebook, we will walk through some simple techniques for evaluating LLM outputs and understanding their performance.\n",
        "\n",
        "In the following example, we will evaluate a summarisation task using the Gemini 1.5 Pro technical report. We will start by downloading the PDF to the notebook environment, and uploading that copy for use with the Gemini API."
      ],
      "metadata": {
        "id": "x9ZecsKXE68K"
      }
    },
    {
      "cell_type": "code",
      "source": [
        "client = genai.Client(api_key=userdata.get('GOOGLE_API_KEY'))\n"
      ],
      "metadata": {
        "id": "tbWVHDrOFU5R"
      },
      "execution_count": 5,
      "outputs": []
    },
    {
      "cell_type": "code",
      "source": [
        "!wget -nv -O gemini.pdf https://storage.googleapis.com/cloud-samples-data/generative-ai/pdf/2403.05530.pdf\n",
        "\n",
        "document_file = client.files.upload(file='gemini.pdf')\n"
      ],
      "metadata": {
        "colab": {
          "base_uri": "https://localhost:8080/"
        },
        "id": "YV57MyH4Elmp",
        "outputId": "b2f7be9e-6075-4e7b-c278-82c7a355117b"
      },
      "execution_count": 6,
      "outputs": [
        {
          "output_type": "stream",
          "name": "stdout",
          "text": [
            "2025-03-31 19:46:03 URL:https://storage.googleapis.com/cloud-samples-data/generative-ai/pdf/2403.05530.pdf [7228817/7228817] -> \"gemini.pdf\" [1]\n"
          ]
        }
      ]
    },
    {
      "cell_type": "markdown",
      "source": [
        "### Summarising a document\n",
        "The summarisation request used here is fairly basic. It targets the training content specifically but provides no guidance otherwise."
      ],
      "metadata": {
        "id": "6AYvrR0fFdPj"
      }
    },
    {
      "cell_type": "code",
      "source": [
        "request = 'Tell me about the training process used here.'\n",
        "\n",
        "def summarise_doc(request: str) -> str:\n",
        "  # Setting the temperature low to stabilize the output\n",
        "  config = types.GenerateContentConfig(\n",
        "      temperature = 0.0\n",
        "  )\n",
        "\n",
        "  response = client.models.generate_content(\n",
        "      model = \"gemini-2.0-flash\",\n",
        "      config = config,\n",
        "      contents = [request, document_file],\n",
        "  )\n",
        "  return response.text\n"
      ],
      "metadata": {
        "id": "FMz36FGLFX5i"
      },
      "execution_count": 7,
      "outputs": []
    },
    {
      "cell_type": "code",
      "source": [
        "summary = summarise_doc(request)\n",
        "Markdown(summary)\n"
      ],
      "metadata": {
        "colab": {
          "base_uri": "https://localhost:8080/",
          "height": 529
        },
        "id": "r1rzK6b3GHEV",
        "outputId": "60488868-6ea4-4f09-bf71-ddaa83204760"
      },
      "execution_count": 8,
      "outputs": [
        {
          "output_type": "execute_result",
          "data": {
            "text/plain": [
              "<IPython.core.display.Markdown object>"
            ],
            "text/markdown": "Based on the document you provided, here's a breakdown of the training process used for Gemini 1.5 Pro:\n\n**1. Model Architecture:**\n\n*   Gemini 1.5 Pro is a **sparse mixture-of-experts (MoE) Transformer-based model.** This means it builds upon the Transformer architecture (Vaswani et al., 2017) but incorporates a MoE structure.\n*   MoE models use a **learned routing function** to direct inputs to a subset of the model's parameters for processing. This allows the model to have a large total parameter count while only activating a portion of those parameters for any given input.\n\n**2. Training Data:**\n\n*   The model is trained on a **variety of multimodal and multilingual data.**\n*   The pre-training dataset includes data sourced from many different domains, including **web documents, code, images, audio, and video content.**\n\n**3. Training Infrastructure:**\n\n*   Gemini 1.5 Pro is trained on **multiple 4096-chip pods of Google's TPUv4 accelerators**, distributed across multiple datacenters.\n\n**4. Training Process:**\n\n*   **Pre-training:** The model is initially pre-trained on the large, diverse dataset mentioned above.\n*   **Instruction Tuning:** After pre-training, Gemini 1.5 Pro is fine-tuned on a collection of multimodal data containing paired instructions and appropriate responses.\n*   **Human Preference Tuning:** Further tuning is performed based on human preference data.\n\n**Key Aspects and Innovations:**\n\n*   **Long Context Understanding:** A series of significant architecture changes enable long-context understanding of inputs up to 10 million tokens without degrading performance.\n*   **Efficiency:** Improvements across the entire model stack (architecture, data, optimization, and systems) allow Gemini 1.5 Pro to achieve comparable quality to Gemini 1.0 Ultra while using significantly less training compute and being significantly more efficient to serve.\n*   **Multimodality:** The model is natively multimodal and supports interleaving of data from different modalities (audio, visual, text, code) in the same input sequence.\n\nIn summary, the training process involves a combination of large-scale pre-training on diverse multimodal data, followed by instruction tuning and human preference tuning, all leveraging a MoE architecture and Google's TPU infrastructure. A key focus is on enabling the model to handle extremely long contexts effectively.\n"
          },
          "metadata": {},
          "execution_count": 8
        }
      ]
    },
    {
      "cell_type": "markdown",
      "source": [
        "### Defining an evaluator\n",
        "For a task like this, we may wish to evaluate a number of aspects, like how well the model followed the prompt (\"instruction following\"), whether it included relevant data in the prompt (\"groundedness\"), how easy the text is to read (\"fluency\"), or other factors like \"verbosity\" or \"quality\". We can instruct an LLM to perform these tasks in a similar manner to how we would instruct a human rater: with a clear definition and assessment rubric. In this step, we define an evaluation agent using a pre-written \"summarisation\" prompt and use it to gauge the quality of the generated summary.\n"
      ],
      "metadata": {
        "id": "dYzVhqLaGWX8"
      }
    },
    {
      "cell_type": "code",
      "source": [
        "import enum\n"
      ],
      "metadata": {
        "id": "7lYZKde7GPH8"
      },
      "execution_count": 9,
      "outputs": []
    },
    {
      "cell_type": "code",
      "source": [
        "# Defining the evaluation prompt\n",
        "\n",
        "SUMMARY_PROMPT = \"\"\"\\\n",
        "# Instruction\n",
        "You are an expert evaluator. Your task is to evaluate the quality of the responses generated by AI models.\n",
        "We will provide you with the user input and an AI-generated responses.\n",
        "You should first read the user input carefully for analyzing the task, and then evaluate the quality of the responses based on the Criteria provided in the Evaluation section below.\n",
        "You will assign the response a rating following the Rating Rubric and Evaluation Steps. Give step-by-step explanations for your rating, and only choose ratings from the Rating Rubric.\n",
        "\n",
        "# Evaluation\n",
        "## Metric Definition\n",
        "You will be assessing summarization quality, which measures the overall ability to summarize text. Pay special attention to length constraints, such as in X words or in Y sentences. The instruction for performing a summarization task and the context to be summarized are provided in the user prompt. The response should be shorter than the text in the context. The response should not contain information that is not present in the context.\n",
        "\n",
        "## Criteria\n",
        "Instruction following: The response demonstrates a clear understanding of the summarization task instructions, satisfying all of the instruction's requirements.\n",
        "Groundedness: The response contains information included only in the context. The response does not reference any outside information.\n",
        "Conciseness: The response summarizes the relevant details in the original text without a significant loss in key information without being too verbose or terse.\n",
        "Fluency: The response is well-organized and easy to read.\n",
        "\n",
        "## Rating Rubric\n",
        "5: (Very good). The summary follows instructions, is grounded, is concise, and fluent.\n",
        "4: (Good). The summary follows instructions, is grounded, concise, and fluent.\n",
        "3: (Ok). The summary mostly follows instructions, is grounded, but is not very concise and is not fluent.\n",
        "2: (Bad). The summary is grounded, but does not follow the instructions.\n",
        "1: (Very bad). The summary is not grounded.\n",
        "\n",
        "## Evaluation Steps\n",
        "STEP 1: Assess the response in aspects of instruction following, groundedness, conciseness, and verbosity according to the criteria.\n",
        "STEP 2: Score based on the rubric.\n",
        "\n",
        "# User Inputs and AI-generated Response\n",
        "## User Inputs\n",
        "\n",
        "### Prompt\n",
        "{prompt}\n",
        "\n",
        "## AI-generated Response\n",
        "{response}\n",
        "\"\"\"\n"
      ],
      "metadata": {
        "id": "qZivZpjhGnxs"
      },
      "execution_count": 10,
      "outputs": []
    },
    {
      "cell_type": "code",
      "source": [
        "# Defining a structured enum class to capture the result\n",
        "\n",
        "class SummaryRating(enum.Enum):\n",
        "  VERY_GOOD = '5'\n",
        "  GOOD = '4'\n",
        "  OK = '3'\n",
        "  BAD = '2'\n",
        "  VERY_BAD = '1'\n"
      ],
      "metadata": {
        "id": "QPqwY2b3Gvoa"
      },
      "execution_count": 11,
      "outputs": []
    },
    {
      "cell_type": "code",
      "source": [
        "def evaluate_summary(prompt, ai_response):\n",
        "  # Evaluating the generated summary against the prompt used\n",
        "  chat = client.chats.create(model = \"gemini-2.0-flash\")\n",
        "\n",
        "  # Generating the full text response\n",
        "  response = chat.send_message(\n",
        "      message = SUMMARY_PROMPT.format(prompt = prompt, response = ai_response)\n",
        "  )\n",
        "  verbose_eval = response.text\n",
        "\n",
        "  # Coercing into the desired structure\n",
        "  structured_output_config = types.GenerateContentConfig(\n",
        "      response_mime_type = \"application/json\",\n",
        "      response_schema = SummaryRating,\n",
        "  )\n",
        "\n",
        "  response = chat.send_message(\n",
        "      message = \"Convert the final score\",\n",
        "      config = structured_output_config,\n",
        "  )\n",
        "  structured_eval = response.parsed\n",
        "\n",
        "  return verbose_eval, structured_eval\n"
      ],
      "metadata": {
        "id": "XgASh7cnHAn4"
      },
      "execution_count": 12,
      "outputs": []
    },
    {
      "cell_type": "code",
      "source": [
        "text_eval, struct_eval = evaluate_summary(prompt = [request, document_file], ai_response = summary)\n",
        "Markdown(text_eval)\n"
      ],
      "metadata": {
        "colab": {
          "base_uri": "https://localhost:8080/",
          "height": 154
        },
        "id": "lUQhPQJUIXBY",
        "outputId": "b29cbec3-8da2-4149-9f85-7288de6e5471"
      },
      "execution_count": 13,
      "outputs": [
        {
          "output_type": "execute_result",
          "data": {
            "text/plain": [
              "<IPython.core.display.Markdown object>"
            ],
            "text/markdown": "## Evaluation\n\nSTEP 1: The response accurately summarized the training process, including the model architecture, training data, infrastructure, and key innovations. It is grounded in the provided document and offers a comprehensive overview.\n\nSTEP 2: The response followed the instructions, is grounded, is concise, and fluent.\n\nRating: 5\n"
          },
          "metadata": {},
          "execution_count": 13
        }
      ]
    },
    {
      "cell_type": "markdown",
      "source": [
        "In this example, the model generated a textual justification that was set up in a chat context. This full text response is useful both for human interpretation and for giving the model a place to \"collect notes\" while it assesses the text and produces a final score. This \"note taking\" or \"thinking\" strategy typically works well with auto-regressive models, where the generated text is passed back into the model at each generation step. This means the working \"notes\" are used when generating final result output.\n",
        "\n",
        "Next, the model converts the text output into a structured response. If we want to aggregate scores or use them programatically then we want to avoid parsing the unstructured text output. Here, the SummaryRating schema is passed, so the model converts the chat history into an instance of the SummaryRating enum."
      ],
      "metadata": {
        "id": "_2KLzYTCIy3k"
      }
    },
    {
      "cell_type": "code",
      "source": [
        "struct_eval\n"
      ],
      "metadata": {
        "colab": {
          "base_uri": "https://localhost:8080/"
        },
        "id": "M3XuI0kaIph6",
        "outputId": "038dab8a-04b0-4153-9263-d8b3550e4bdc"
      },
      "execution_count": 14,
      "outputs": [
        {
          "output_type": "execute_result",
          "data": {
            "text/plain": [
              "<SummaryRating.VERY_GOOD: '5'>"
            ]
          },
          "metadata": {},
          "execution_count": 14
        }
      ]
    },
    {
      "cell_type": "markdown",
      "source": [
        "### Making the summary prompt better or worse\n",
        "Gemini models tend to be quite good at tasks like direct summarisation without much prompting, so you should expect to see a result like `GOOD` or `VERY_GOOD` on the previous task, even with a rudimentary prompt."
      ],
      "metadata": {
        "id": "gLtJsYWtJFyL"
      }
    },
    {
      "cell_type": "code",
      "source": [
        "new_prompt = \"ELI5 the training process.\"\n",
        "\n",
        "if not new_prompt:\n",
        "  raise ValueError(\"Try setting a new summarization prompt.\")\n"
      ],
      "metadata": {
        "id": "g60CQKnFMd9H"
      },
      "execution_count": 15,
      "outputs": []
    },
    {
      "cell_type": "code",
      "source": [
        "def run_and_evaluate_summary(prompt):\n",
        "  # Generating and evaluating the summary using the new prompt\n",
        "  summary = summarise_doc(prompt)\n",
        "  display(Markdown(summary + '\\n-------'))\n",
        "\n",
        "  text, struct = evaluate_summary([new_prompt, document_file], summary)\n",
        "  display(Markdown(text + '\\n-------'))\n",
        "  print(struct)\n",
        "\n",
        "run_and_evaluate_summary(new_prompt)\n"
      ],
      "metadata": {
        "colab": {
          "base_uri": "https://localhost:8080/",
          "height": 911
        },
        "id": "EaEFbR3UM0hL",
        "outputId": "09ee69dd-5922-427c-9fe4-af111598c2f9"
      },
      "execution_count": 16,
      "outputs": [
        {
          "output_type": "display_data",
          "data": {
            "text/plain": [
              "<IPython.core.display.Markdown object>"
            ],
            "text/markdown": "Okay, I'll explain the training process of a large language model (LLM) like Gemini 1.5 in a way that's easy to understand.\n\n**Imagine you're teaching a dog a new trick.**\n\n1.  **Gathering the Data (The \"Treats\"):**\n\n    *   First, you need lots and lots of examples of what you want the dog to learn. For an LLM, this means collecting a massive amount of text and code. Think of it as the dog's \"training treats.\" This data comes from all over the internet: websites, books, code repositories, etc.\n    *   For a multimodal model like Gemini, you also need images, audio, and video data.\n\n2.  **Building the Model (The \"Dog\"):**\n\n    *   The LLM is like the dog's brain. It's a complex mathematical structure (a neural network) with millions or even billions of \"knobs\" (parameters) that can be adjusted.\n    *   The architecture of the model is important. Gemini 1.5 uses a \"mixture-of-experts\" architecture, which is like having a team of specialized dogs, each good at a different part of the trick.\n\n3.  **Training (The \"Teaching\"):**\n\n    *   This is where the magic happens. You feed the model the training data, piece by piece.\n    *   **Prediction:** The model tries to predict the next word in a sentence, or the answer to a question, or the next line of code.\n    *   **Comparison:** You compare the model's prediction to the correct answer (the \"ground truth\").\n    *   **Adjustment:** If the model is wrong, you adjust the \"knobs\" in its brain to make it more likely to get the answer right next time. This adjustment is done using a mathematical process called \"gradient descent.\"\n    *   **Repeat:** You repeat this process millions or billions of times, gradually making the model better and better at predicting the right answers.\n\n4.  **Instruction Tuning (Polishing the Trick):**\n\n    *   After the initial training, you fine-tune the model to make it better at following instructions. This is like giving the dog specific commands like \"sit,\" \"stay,\" or \"fetch.\"\n    *   You feed the model examples of instructions and the desired responses, and again adjust the \"knobs\" to make it better at following instructions.\n\n5.  **Evaluation (Testing the Trick):**\n\n    *   Once the model is trained, you need to test how well it performs. You feed it new data that it hasn't seen before and see how accurately it can predict the right answers.\n    *   This helps you identify any weaknesses in the model and make further adjustments.\n\n6.  **Safety Mitigations (Making Sure the Trick is Safe):**\n\n    *   It's important to make sure the model doesn't generate harmful or biased content. This is like making sure the dog doesn't bite anyone while performing the trick.\n    *   You use techniques like supervised fine-tuning and reinforcement learning to make the model safer.\n\n**Key Concepts:**\n\n*   **Tokens:** LLMs don't understand words like humans do. They break down text into smaller units called \"tokens.\"\n*   **Parameters:** The \"knobs\" in the model's brain that are adjusted during training. More parameters generally mean a more powerful model.\n*   **Context Window:** The amount of text the model can \"remember\" when making a prediction. Gemini 1.5 has a very large context window, allowing it to process long documents and videos.\n*   **Multimodal:** The ability to process different types of data, like text, images, audio, and video.\n\nIn essence, training an LLM is like teaching a dog a very complex trick by showing it lots of examples and gradually adjusting its behavior until it gets it right. The key is to have a massive amount of training data, a powerful model architecture, and effective training techniques.\n\n-------"
          },
          "metadata": {}
        },
        {
          "output_type": "display_data",
          "data": {
            "text/plain": [
              "<IPython.core.display.Markdown object>"
            ],
            "text/markdown": "STEP 1: The response does a pretty good job of following instructions. The response does not include any information that is not present in the context. The response is very conversational and easy to read.\nSTEP 2: I would rate this as a 4. The response is good because it is grounded, concise, and fluent.\n-------"
          },
          "metadata": {}
        },
        {
          "output_type": "stream",
          "name": "stdout",
          "text": [
            "SummaryRating.GOOD\n"
          ]
        }
      ]
    },
    {
      "cell_type": "markdown",
      "source": [
        "## Evaluating in practice\n",
        "Evaluation has many practical uses, for example:\n",
        "\n",
        "\n",
        "*   We can quickly iterate on a prompt with a small set of test documents,\n",
        "*   We can compare different models to find what works best for our needs, such as finding the trade-off between price and performance, or finding the best performance for a specific task.\n",
        "*   When pushing changes to a model or prompt in a production system, we can verify that the system does not regress in quality.\n",
        "\n"
      ],
      "metadata": {
        "id": "Bez9NQHzNjQI"
      }
    },
    {
      "cell_type": "markdown",
      "source": [
        "### Pointwise evaluation\n",
        "The technique used above, where we evaluated a single input/output pair against some criteria is known as 'Pointwise Evaluation'. This is useful for evaluating singular outputs in an absolute sense, such as \"Was it good or bad?\"\n",
        "\n",
        "In the following exercise, we will try different guidance prompts with a set of questions.\n"
      ],
      "metadata": {
        "id": "lf2ESeTsN2Mw"
      }
    },
    {
      "cell_type": "code",
      "source": [
        "import functools\n"
      ],
      "metadata": {
        "id": "k709Gm-kNem4"
      },
      "execution_count": 17,
      "outputs": []
    },
    {
      "cell_type": "code",
      "source": [
        "terse_guidance = \"Answer the following question in a single sentence, or as close to that as possible.\"\n",
        "moderate_guidance = \"Provide a brief answer to the following question, use a citation if necessary, but only enough to answer the question.\"\n",
        "cited_guidance = \"Provide a thorough, detailed answer to the following question, citing the document and supplying additional background information as much as possible.\"\n"
      ],
      "metadata": {
        "id": "cJsphHHsOJ0d"
      },
      "execution_count": 18,
      "outputs": []
    },
    {
      "cell_type": "code",
      "source": [
        "guidance_options = {\n",
        "    'Terse': terse_guidance,\n",
        "    'Moderate': moderate_guidance,\n",
        "    'Cited': cited_guidance,\n",
        "}\n"
      ],
      "metadata": {
        "id": "iE4g54p1ONt3"
      },
      "execution_count": 19,
      "outputs": []
    },
    {
      "cell_type": "code",
      "source": [
        "questions = [\n",
        "    # Evaluating more questions will take more time, but produces results\n",
        "    # with higher confidence. In a production system, we may have hundreds\n",
        "    # of questions to evaluate a complex system.\n",
        "\n",
        "    # \"What metric(s) are used to evaluate long context performance?\",\n",
        "    \"How does the model perform on code tasks?\",\n",
        "    \"How many layers does it have?\",\n",
        "    # \"Why is it called Gemini?\",\n",
        "]\n"
      ],
      "metadata": {
        "id": "RpPBeEOMOWjM"
      },
      "execution_count": 20,
      "outputs": []
    },
    {
      "cell_type": "code",
      "source": [
        "if not questions:\n",
        "  raise NotImplementedError(\"Add some questions to evaluate.\")\n"
      ],
      "metadata": {
        "id": "-Y8psjQsOe25"
      },
      "execution_count": 21,
      "outputs": []
    },
    {
      "cell_type": "code",
      "source": [
        "@functools.cache\n",
        "\n",
        "def answer_question(question: str, guidance: str = '') -> str:\n",
        "  # Generating an answer to the question using the uploaded document and guidance\n",
        "  config = types.GenerateContentConfig(\n",
        "      temperature = 0.0,\n",
        "      system_instruction = guidance,\n",
        "  )\n",
        "\n",
        "  response = client.models.generate_content(\n",
        "      model = 'gemini-2.0-flash',\n",
        "      config = config,\n",
        "      contents = [question, document_file],\n",
        "  )\n",
        "\n",
        "  return response.text\n"
      ],
      "metadata": {
        "id": "SsicqPmEOpIf"
      },
      "execution_count": 22,
      "outputs": []
    },
    {
      "cell_type": "code",
      "source": [
        "answer = answer_question(questions[0], terse_guidance)\n",
        "Markdown(answer)\n"
      ],
      "metadata": {
        "colab": {
          "base_uri": "https://localhost:8080/",
          "height": 64
        },
        "id": "sQ82aKGvPQvd",
        "outputId": "d21db6b8-ace7-43c3-d011-04fed2d9ca03"
      },
      "execution_count": 23,
      "outputs": [
        {
          "output_type": "execute_result",
          "data": {
            "text/plain": [
              "<IPython.core.display.Markdown object>"
            ],
            "text/markdown": "Gemini 1.5 Pro performs well on code tasks, surpassing Gemini 1.0 Ultra on Natural2Code and showing improvements in coding capabilities compared to previous Gemini models.\n"
          },
          "metadata": {},
          "execution_count": 23
        }
      ]
    },
    {
      "cell_type": "markdown",
      "source": [
        "Now, let's set up a question-answering evaluator, much like before, but using the pointwise QA evaluation prompt.\n",
        "\n"
      ],
      "metadata": {
        "id": "aRdxsU8IQm-G"
      }
    },
    {
      "cell_type": "code",
      "source": [
        "import enum\n"
      ],
      "metadata": {
        "id": "2ZRLQOG8QFb5"
      },
      "execution_count": 24,
      "outputs": []
    },
    {
      "cell_type": "code",
      "source": [
        "QA_PROMPT = \"\"\"\\\n",
        "# Instruction\n",
        "You are an expert evaluator. Your task is to evaluate the quality of the responses generated by AI models.\n",
        "We will provide you with the user prompt and an AI-generated responses.\n",
        "You should first read the user prompt carefully for analyzing the task, and then evaluate the quality of the responses based on and rules provided in the Evaluation section below.\n",
        "\n",
        "# Evaluation\n",
        "## Metric Definition\n",
        "You will be assessing question answering quality, which measures the overall quality of the answer to the question in the user prompt. Pay special attention to length constraints, such as in X words or in Y sentences. The instruction for performing a question-answering task is provided in the user prompt. The response should not contain information that is not present in the context (if it is provided).\n",
        "\n",
        "You will assign the writing response a score from 5, 4, 3, 2, 1, following the Rating Rubric and Evaluation Steps.\n",
        "Give step-by-step explanations for your scoring, and only choose scores from 5, 4, 3, 2, 1.\n",
        "\n",
        "## Criteria Definition\n",
        "Instruction following: The response demonstrates a clear understanding of the question answering task instructions, satisfying all of the instruction's requirements.\n",
        "Groundedness: The response contains information included only in the context if the context is present in the user prompt. The response does not reference any outside information.\n",
        "Completeness: The response completely answers the question with sufficient detail.\n",
        "Fluent: The response is well-organized and easy to read.\n",
        "\n",
        "## Rating Rubric\n",
        "5: (Very good). The answer follows instructions, is grounded, complete, and fluent.\n",
        "4: (Good). The answer follows instructions, is grounded, complete, but is not very fluent.\n",
        "3: (Ok). The answer mostly follows instructions, is grounded, answers the question partially and is not very fluent.\n",
        "2: (Bad). The answer does not follow the instructions very well, is incomplete or not fully grounded.\n",
        "1: (Very bad). The answer does not follow the instructions, is wrong and not grounded.\n",
        "\n",
        "## Evaluation Steps\n",
        "STEP 1: Assess the response in aspects of instruction following, groundedness,completeness, and fluency according to the criteria.\n",
        "STEP 2: Score based on the rubric.\n",
        "\n",
        "# User Inputs and AI-generated Response\n",
        "## User Inputs\n",
        "### Prompt\n",
        "{prompt}\n",
        "\n",
        "## AI-generated Response\n",
        "{response}\n",
        "\"\"\"\n"
      ],
      "metadata": {
        "id": "I_RnO6yZQrXM"
      },
      "execution_count": 25,
      "outputs": []
    },
    {
      "cell_type": "code",
      "source": [
        "class AnswerRating(enum.Enum):\n",
        "  VERY_GOOD = '5'\n",
        "  GOOD = '4'\n",
        "  OK = '3'\n",
        "  BAD = '2'\n",
        "  VERY_BAD = '1'\n"
      ],
      "metadata": {
        "id": "gcM2_6AjQvV7"
      },
      "execution_count": 26,
      "outputs": []
    },
    {
      "cell_type": "code",
      "source": [
        "@functools.cache\n",
        "\n",
        "def evaluate_answer(prompt, ai_response, n = 1):\n",
        "  # Evaluating the generated answer against the prompt/question used\n",
        "\n",
        "  chat = client.chats.create(model = \"gemini-2.0-flash\")\n",
        "\n",
        "  #Generating the full text response\n",
        "  response = chat.send_message(\n",
        "      message = QA_PROMPT.format(prompt = [prompt, document_file], response = ai_response)\n",
        "  )\n",
        "  verbose_eval = response.text\n",
        "\n",
        "  # Coercing into the desired structure\n",
        "  structured_output_config = types.GenerateContentConfig(\n",
        "      response_mime_type = \"application/json\",\n",
        "      response_schema = AnswerRating,\n",
        "  )\n",
        "\n",
        "  response = chat.send_message(\n",
        "      message = \"Convert the final score\",\n",
        "      config = structured_output_config,\n",
        "  )\n",
        "  structured_eval = response.parsed\n",
        "\n",
        "  return verbose_eval, structured_eval\n"
      ],
      "metadata": {
        "id": "tP0pTBBZQ8DR"
      },
      "execution_count": 27,
      "outputs": []
    },
    {
      "cell_type": "code",
      "source": [
        "text_eval, struct_eval = evaluate_answer(prompt = questions[0], ai_response = answer)\n",
        "display(Markdown(text_eval))\n",
        "print(struct_eval)\n"
      ],
      "metadata": {
        "colab": {
          "base_uri": "https://localhost:8080/",
          "height": 122
        },
        "id": "pvmO-xSZR8iv",
        "outputId": "1d238864-29ae-45fd-be41-f5efc15da752"
      },
      "execution_count": 28,
      "outputs": [
        {
          "output_type": "display_data",
          "data": {
            "text/plain": [
              "<IPython.core.display.Markdown object>"
            ],
            "text/markdown": "STEP 1: The response directly answers the question, \"How does the model perform on code tasks?\" It also references the context document provided.\nSTEP 2:\nInstruction following: The response directly answers the question.\nGroundedness: The response is grounded in the document provided.\nCompleteness: The response is complete.\nFluent: The response is well-organized and easy to read.\nThe response is very good.\n\nTherefore, I choose a score of 5."
          },
          "metadata": {}
        },
        {
          "output_type": "stream",
          "name": "stdout",
          "text": [
            "AnswerRating.VERY_GOOD\n"
          ]
        }
      ]
    },
    {
      "cell_type": "code",
      "source": [
        "import collections\n",
        "import itertools\n"
      ],
      "metadata": {
        "id": "COv4B4S_ScwH"
      },
      "execution_count": 29,
      "outputs": []
    },
    {
      "cell_type": "code",
      "source": [
        "# Number of times to repeat each task in order to reduce error and calculate an average. Increasing it will take longer but give better results.\n",
        "NUM_ITERATIONS = 1\n",
        "\n",
        "scores = collections.defaultdict(int)\n",
        "responses = collections.defaultdict(list)\n"
      ],
      "metadata": {
        "id": "Tl9y9eGmS45F"
      },
      "execution_count": 30,
      "outputs": []
    },
    {
      "cell_type": "code",
      "source": [
        "for question in questions:\n",
        "  display(Markdown(f' ## {question}'))\n",
        "  for guidance, guide_prompt in guidance_options.items():\n",
        "    for n in range(NUM_ITERATIONS):\n",
        "      # Generating a response\n",
        "      answer = answer_question(question, guide_prompt)\n",
        "\n",
        "      # Evaluating the response. Note that the guidance prompt is not passed\n",
        "      written_eval, struct_eval = evaluate_answer(question, answer, n)\n",
        "      print(f' {guidance}: {struct_eval}')\n",
        "\n",
        "      # Saving the numeric score\n",
        "      scores[guidance] += int(struct_eval.value)\n",
        "\n",
        "      # Saving the responses, in case we wish to inspect them\n",
        "      responses[(guidance, question)].append((answer, written_eval))\n"
      ],
      "metadata": {
        "colab": {
          "base_uri": "https://localhost:8080/",
          "height": 219
        },
        "id": "2L_lnak7TQoY",
        "outputId": "80b6f691-1574-4ce3-f5f3-5d5a75723324"
      },
      "execution_count": 31,
      "outputs": [
        {
          "output_type": "display_data",
          "data": {
            "text/plain": [
              "<IPython.core.display.Markdown object>"
            ],
            "text/markdown": " ## How does the model perform on code tasks?"
          },
          "metadata": {}
        },
        {
          "output_type": "stream",
          "name": "stdout",
          "text": [
            " Terse: AnswerRating.VERY_GOOD\n",
            " Moderate: AnswerRating.VERY_GOOD\n",
            " Cited: AnswerRating.VERY_GOOD\n"
          ]
        },
        {
          "output_type": "display_data",
          "data": {
            "text/plain": [
              "<IPython.core.display.Markdown object>"
            ],
            "text/markdown": " ## How many layers does it have?"
          },
          "metadata": {}
        },
        {
          "output_type": "stream",
          "name": "stdout",
          "text": [
            " Terse: AnswerRating.VERY_GOOD\n",
            " Moderate: AnswerRating.VERY_BAD\n",
            " Cited: AnswerRating.VERY_GOOD\n"
          ]
        }
      ]
    },
    {
      "cell_type": "code",
      "source": [
        "for guidance, score in scores.items():\n",
        "  avg_score = score / (NUM_ITERATIONS * len(questions))\n",
        "  nearest = AnswerRating(str(round(avg_score)))\n",
        "  print(f'{guidance}:{avg_score:.2f} - {nearest.name}')\n"
      ],
      "metadata": {
        "colab": {
          "base_uri": "https://localhost:8080/"
        },
        "id": "dA_48tgeZ1Oj",
        "outputId": "ff652c05-1a11-4fce-8312-614fc471f710"
      },
      "execution_count": 32,
      "outputs": [
        {
          "output_type": "stream",
          "name": "stdout",
          "text": [
            "Terse:5.00 - VERY_GOOD\n",
            "Moderate:3.00 - OK\n",
            "Cited:5.00 - VERY_GOOD\n"
          ]
        }
      ]
    },
    {
      "cell_type": "markdown",
      "source": [
        "###Pairwise evaluation\n",
        "The pointwise evaluation prompt used in the previous step has 5 levels of grading in the output. This may be too coarse for our system, or perhaps we may wish to improve on a prompt that is already \"very good\".\n",
        "Another approach to evaluation is to compare two outputs against each other. This is known as 'Pairwise Evaluation', and is a key step in ranking and sorting algorithms, which allows us to use it to rank our prompts either instead of, or in addition to the pointwise approach.\n",
        "\n",
        "This step implements pairwise evaluation using the pairwise QA quality prompt from the Google Cloud docs."
      ],
      "metadata": {
        "id": "yMG1zMLeajXR"
      }
    },
    {
      "cell_type": "code",
      "source": [
        "QA_PAIRWISE_PROMPT = \"\"\"\\\n",
        "# Instruction\n",
        "You are an expert evaluator. Your task is to evaluate the quality of the responses generated by two AI models. We will provide you with the user input and a pair of AI-generated responses (Response A and Response B). You should first read the user input carefully for analyzing the task, and then evaluate the quality of the responses based on the Criteria provided in the Evaluation section below.\n",
        "\n",
        "You will first judge responses individually, following the Rating Rubric and Evaluation Steps. Then you will give step-by-step explanations for your judgment, compare results to declare the winner based on the Rating Rubric and Evaluation Steps.\n",
        "\n",
        "# Evaluation\n",
        "## Metric Definition\n",
        "You will be assessing question answering quality, which measures the overall quality of the answer to the question in the user prompt. Pay special attention to length constraints, such as in X words or in Y sentences. The instruction for performing a question-answering task is provided in the user prompt. The response should not contain information that is not present in the context (if it is provided).\n",
        "\n",
        "## Criteria\n",
        "Instruction following: The response demonstrates a clear understanding of the question answering task instructions, satisfying all of the instruction's requirements.\n",
        "Groundedness: The response contains information included only in the context if the context is present in the user prompt. The response does not reference any outside information.\n",
        "Completeness: The response completely answers the question with sufficient detail.\n",
        "Fluent: The response is well-organized and easy to read.\n",
        "\n",
        "## Rating Rubric\n",
        "\"A\": Response A answers the given question as per the criteria better than response B.\n",
        "\"SAME\": Response A and B answers the given question equally well as per the criteria.\n",
        "\"B\": Response B answers the given question as per the criteria better than response A.\n",
        "\n",
        "## Evaluation Steps\n",
        "STEP 1: Analyze Response A based on the question answering quality criteria: Determine how well Response A fulfills the user requirements, is grounded in the context, is complete and fluent, and provides assessment according to the criterion.\n",
        "STEP 2: Analyze Response B based on the question answering quality criteria: Determine how well Response B fulfills the user requirements, is grounded in the context, is complete and fluent, and provides assessment according to the criterion.\n",
        "STEP 3: Compare the overall performance of Response A and Response B based on your analyses and assessment.\n",
        "STEP 4: Output your preference of \"A\", \"SAME\" or \"B\" to the pairwise_choice field according to the Rating Rubric.\n",
        "STEP 5: Output your assessment reasoning in the explanation field.\n",
        "\n",
        "# User Inputs and AI-generated Responses\n",
        "## User Inputs\n",
        "### Prompt\n",
        "{prompt}\n",
        "\n",
        "# AI-generated Response\n",
        "\n",
        "### Response A\n",
        "{baseline_model_response}\n",
        "\n",
        "### Response B\n",
        "{response}\n",
        "\"\"\"\n"
      ],
      "metadata": {
        "id": "JIms4JicaiEj"
      },
      "execution_count": 33,
      "outputs": []
    },
    {
      "cell_type": "code",
      "source": [
        "class AnswerComparison(enum.Enum):\n",
        "  A = 'A'\n",
        "  SAME = 'SAME'\n",
        "  B = 'B'\n"
      ],
      "metadata": {
        "id": "GuXIINDBbBuY"
      },
      "execution_count": 34,
      "outputs": []
    },
    {
      "cell_type": "code",
      "source": [
        "@functools.cache\n",
        "\n",
        "def evaluate_pairwise(prompt, response_a, response_b, n=1):\n",
        "  # Determining the better of two answers to the same prompt\n",
        "\n",
        "  chat = client.chats.create(model = \"gemini-2.0-flash\")\n",
        "\n",
        "  #Generating the full text response\n",
        "  response = chat.send_message(\n",
        "      message = QA_PAIRWISE_PROMPT.format(prompt = [prompt, document_file],\n",
        "                                          baseline_model_response = response_a,\n",
        "                                          response = response_b,\n",
        "                                          )\n",
        "  )\n",
        "  verbose_eval = response.text\n",
        "\n",
        "  # Coercing into the desired structure\n",
        "  structured_output_config = types.GenerateContentConfig(\n",
        "      response_mime_type = \"application/json\",\n",
        "      response_schema = AnswerComparison,\n",
        "  )\n",
        "\n",
        "  response = chat.send_message(\n",
        "      message = \"Convert the final score.\",\n",
        "      config = structured_output_config,\n",
        "  )\n",
        "  structured_eval = response.parsed\n",
        "\n",
        "  return verbose_eval, structured_eval\n"
      ],
      "metadata": {
        "id": "1JJUEE9JiNzh"
      },
      "execution_count": 35,
      "outputs": []
    },
    {
      "cell_type": "code",
      "source": [
        "question = questions[0]\n",
        "answer_a = answer_question(question, terse_guidance)\n",
        "answer_b = answer_question(question, cited_guidance)\n",
        "\n",
        "text_eval, struct_eval = evaluate_pairwise(\n",
        "    prompt = question,\n",
        "    response_a = answer_a,\n",
        "    response_b = answer_b,\n",
        ")\n",
        "\n",
        "display(Markdown(text_eval))\n",
        "print(struct_eval)\n"
      ],
      "metadata": {
        "colab": {
          "base_uri": "https://localhost:8080/",
          "height": 227
        },
        "id": "vkfsZCHWtk7o",
        "outputId": "13ebba4f-8f85-44ff-d81c-4f3570fc9abb"
      },
      "execution_count": 36,
      "outputs": [
        {
          "output_type": "display_data",
          "data": {
            "text/plain": [
              "<IPython.core.display.Markdown object>"
            ],
            "text/markdown": "STEP 1: Analyze Response A based on the question answering quality criteria:\nResponse A is very short and does not give me all the information I need. It fulfills the requirements but could have been more complete. It is also fluent.\n\nSTEP 2: Analyze Response B based on the question answering quality criteria:\nResponse B is much more detailed and shows many aspects of how the model is performing. It fulfills the requirements and is fluent.\n\nSTEP 3: Compare the overall performance of Response A and Response B based on your analyses and assessment.\nResponse B gives much more information than response A.\n\nSTEP 4: Output your preference of \"A\", \"SAME\" or \"B\" to the pairwise_choice field according to the Rating Rubric.\nB\n\nSTEP 5: Output your assessment reasoning in the explanation field.\nResponse B gives much more detailed information that would be helpful to a user. Response A is lacking in details."
          },
          "metadata": {}
        },
        {
          "output_type": "stream",
          "name": "stdout",
          "text": [
            "AnswerComparison.B\n"
          ]
        }
      ]
    },
    {
      "cell_type": "markdown",
      "source": [
        "With a pair-wise evaluator in place, the only thing required to rank prompts against each other is a comparator.\n",
        "\n",
        "This example implements the minimal comparators required for total ordering (== and <) and performs the comparison using `n_iterations` evaluations over the set of `questions`."
      ],
      "metadata": {
        "id": "d79qJGjwytC_"
      }
    },
    {
      "cell_type": "code",
      "source": [
        "@functools.total_ordering\n",
        "\n",
        "class QAGuidancePrompt:\n",
        "  # A question-answering guidance prompt or system instruction\n",
        "\n",
        "  def __init__(self, prompt, questions, n_comparisons = NUM_ITERATIONS):\n",
        "    # Create the prompt. Provide questions to evaluate against, and number of evals to perform\n",
        "    self.prompt = prompt\n",
        "    self.questions = questions\n",
        "    self.n = n_comparisons\n",
        "\n",
        "  def __str__(self):\n",
        "    return self.prompt\n",
        "\n",
        "  def _compare_all(self, other):\n",
        "    # Compare two prompts on all questions over n trials\n",
        "    results = [self._compare_n(other, q) for q in questions]\n",
        "    mean = sum(results) / len(results)\n",
        "    return round(mean)\n",
        "\n",
        "  def _compare_n(self, other, question):\n",
        "    # Compare two prompts on a question over n trials\n",
        "    results = [self._compare(other, question, n) for n in range(self.n)]\n",
        "    mean = sum(results) / len(results)\n",
        "    return mean\n",
        "\n",
        "  def _compare(self, other, question, n = 1):\n",
        "    # Compare two prompts on a single question\n",
        "    answer_a = answer_question(question, self.prompt)\n",
        "    answer_b = answer_question(question, other.prompt)\n",
        "\n",
        "    _, result = evaluate_pairwise(\n",
        "        prompt = question,\n",
        "        response_a = answer_a,\n",
        "        response_b = answer_b,\n",
        "        n = n, # Cache buster\n",
        "    )\n",
        "\n",
        "    # Convert the enum to the standard Python numeric comparison values\n",
        "    if result is AnswerComparison.A:\n",
        "      return 1\n",
        "    elif result is AnswerComparison.B:\n",
        "      return -1\n",
        "    else:\n",
        "      return 0\n",
        "\n",
        "  def __eq__(self, other):\n",
        "    # Equality check that performs pairwise evaluation\n",
        "    if not isinstance(other, QAGuidancePrompt):\n",
        "      return NotImplemented\n",
        "    return self._compare_all(other) == 0\n",
        "\n",
        "  def __lt__(self, other):\n",
        "    # Ordering check that performs pairwise evaluation\n",
        "    if not isinstance(other, QAGuidancePrompt):\n",
        "      return NotImplemented\n",
        "    return self._compare_all(other) < 0\n"
      ],
      "metadata": {
        "id": "wlIz8cZry0c6"
      },
      "execution_count": 38,
      "outputs": []
    },
    {
      "cell_type": "markdown",
      "source": [
        "Now Python's sorting functions will \"just work\" on any `QAGuidancePrompt` instances. The `answer_question` and `eval_pairwise` functions are <a href=\"https://en.wikipedia.org/wiki/Memoization\">memoized</a> to avoid unnecessarily regenerating the same answers or evaluations, so we should see this complete quickly unless we have changed the questions, prompts or number of iterations from the earlier steps."
      ],
      "metadata": {
        "id": "lYJD3qXpyUlv"
      }
    },
    {
      "cell_type": "code",
      "source": [
        "terse_prompt = QAGuidancePrompt(terse_guidance, questions)\n",
        "moderate_prompt = QAGuidancePrompt(moderate_guidance, questions)\n",
        "cited_prompt = QAGuidancePrompt(cited_guidance, questions)\n",
        "\n",
        "# Sorting in reverse order so that best is first\n",
        "sorted_results = sorted([terse_prompt, moderate_prompt, cited_prompt], reverse = True)\n",
        "\n",
        "for i, p in enumerate(sorted_results):\n",
        "  if i:\n",
        "    print('-----')\n",
        "\n",
        "  print(f'#{i+1}: {p}')\n"
      ],
      "metadata": {
        "colab": {
          "base_uri": "https://localhost:8080/"
        },
        "id": "9zqHjlmQySPJ",
        "outputId": "68c6a6fe-b990-4c04-f270-69f8db698416"
      },
      "execution_count": 39,
      "outputs": [
        {
          "output_type": "stream",
          "name": "stdout",
          "text": [
            "#1: Answer the following question in a single sentence, or as close to that as possible.\n",
            "-----\n",
            "#2: Provide a thorough, detailed answer to the following question, citing the document and supplying additional background information as much as possible.\n",
            "-----\n",
            "#3: Provide a brief answer to the following question, use a citation if necessary, but only enough to answer the question.\n"
          ]
        }
      ]
    },
    {
      "cell_type": "markdown",
      "source": [
        "## Challenges\n",
        "\n",
        "### LLM limitations\n",
        "LLMs are known to have problems on certain tasks, and these challenges still persist when using LLMs as evaluators. For example, LLMs can struggle to count the number of characters in a word (this is a numerical problem, not a language problem), so an LLM evaluator will not be able to accurately evaluate this type of task. There are solutions available in some cases, such as connecting tools to handle problems unsuitable to a language model, but it's important that we understand possible limitations and include human evaluators to calibrate our evaluation system and determine a baseline.\n",
        "\n",
        "One reason that LLM evaluators work well is that all of the information they need is available in the input context, so the model only needs to attend to that information to produce the result. When customising evaluation prompts, or building our own systems, we should keep this in mind and ensure that we are not relying on \"internal knowledge\" from the model, or behaviour that might be better provided from a tool.\n",
        "\n",
        "### Improving confidence\n",
        "One way to improve the confidence of our evaluations is to include a diverse set of evaluators. That is, we should use the same prompts and outputs, but execute them on different models, like Gemini Flash and Pro, or even across different providers, like Gemini, Claude, ChatGPT and local models like Gemma or Qwen. This follows the same idea used earlier, where repeating trials to gather multiple \"opinions\" helps to reduce error, except by using different models the \"opinions\" will be more diverse.\n",
        "\n"
      ],
      "metadata": {
        "id": "tbsw-a-izWPa"
      }
    }
  ]
}